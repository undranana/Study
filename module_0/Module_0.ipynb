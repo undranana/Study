{
 "cells": [
  {
   "cell_type": "code",
   "execution_count": 35,
   "metadata": {},
   "outputs": [
    {
     "name": "stdout",
     "output_type": "stream",
     "text": [
      "Ваш алгоритм угадывает число в среднем за 15 попыток\n"
     ]
    },
    {
     "data": {
      "text/plain": [
       "15"
      ]
     },
     "execution_count": 35,
     "metadata": {},
     "output_type": "execute_result"
    }
   ],
   "source": [
    "import numpy as np\n",
    "def findMyNumber(number):\n",
    "    '''Чтобы быстрее найти загаданное число, можем использовать простое число, на которое оно делися'''\n",
    "    if number % 13 == 0:\n",
    "        return 13\n",
    "    elif number % 11 == 0:\n",
    "        return 11\n",
    "    elif number % 7 == 0:\n",
    "        return 7\n",
    "    elif number % 5 == 0:\n",
    "        return 5\n",
    "    elif number % 3 == 0:\n",
    "        return 3\n",
    "    elif number % 2 == 0:\n",
    "        return 2\n",
    "    else:\n",
    "        return 1\n",
    "    \n",
    "def findFirstNumber(mynumber):\n",
    "    '''Возьмем случайное число, которое будет делится на найденное простое число без остатка'''\n",
    "    predict = np.random.randint(mynumber,101)\n",
    "    random_array = np.random.randint(1,101, size=(100))\n",
    "    for random_array_number in random_array:\n",
    "        if random_array_number % mynumber == 0:\n",
    "            predict = random_array_number\n",
    "            break \n",
    "    return predict\n",
    "\n",
    "def game_core_v2(number):\n",
    "    '''Сначала устанавливаем random число, а потом уменьшаем или увеличиваем его в зависимости от того, \n",
    "        больше оно или меньше нужного. Функция принимает загаданное число и возвращает число попыток'''\n",
    "    count = 1\n",
    "    mynumber = findMyNumber(number)\n",
    "    predict = findFirstNumber(mynumber)\n",
    "    '''С найденного первого числа пойдем вверх или вниз с шагом равным найденному простому числу'''\n",
    "    while number != predict:\n",
    "        count+=1\n",
    "        if count > 1000:\n",
    "            break\n",
    "        if number > predict: \n",
    "            predict += mynumber\n",
    "        elif number < predict: \n",
    "            predict -= mynumber\n",
    "    return count        \n",
    "    # выход из цикла, если угадали\n",
    "\n",
    "def score_game(game_core):\n",
    "    '''Запускаем игру 1000 раз, чтобы узнать, как быстро игра угадывает число'''\n",
    "    count_ls = []\n",
    "    np.random.seed(1)  # фиксируем RANDOM SEED, чтобы ваш эксперимент был воспроизводим!\n",
    "    random_array = np.random.randint(1,101, size=(1))\n",
    "    for number in random_array:\n",
    "        count_ls.append(game_core_v2(number))\n",
    "    score = int(np.mean(count_ls))\n",
    "    print(f\"Ваш алгоритм угадывает число в среднем за {score} попыток\")\n",
    "    return(score)\n",
    "\n",
    "# Проверяем\n",
    "score_game(game_core_v2)"
   ]
  },
  {
   "cell_type": "code",
   "execution_count": 37,
   "metadata": {},
   "outputs": [
    {
     "name": "stdout",
     "output_type": "stream",
     "text": [
      "Ваш алгоритм угадывает число в среднем за 9 попыток\n"
     ]
    },
    {
     "data": {
      "text/plain": [
       "9"
      ]
     },
     "execution_count": 37,
     "metadata": {},
     "output_type": "execute_result"
    }
   ],
   "source": [
    "import numpy as np\n",
    "\n",
    "def game_core_v2(number):\n",
    "    '''Сначала устанавливаем любое random число, нижнюю и верхние границы. \n",
    "        Функция принимает загаданное число и возвращает число попыток.\n",
    "        Предполагаемое число будет вычислятся как среднее значение относительно наших границ. \n",
    "        Таким образом можем ускорить поиск числа в среднем в 2 раза.\n",
    "        Так как при делении мы получаем целое число, то так же проверяем (полученное число +1)'''\n",
    "    count = 2\n",
    "    high = 100\n",
    "    low = 1\n",
    "    predict = np.random.randint(1,101)\n",
    "    while number != predict and number != predict + 1:\n",
    "        #Так как при прохождении цикла мы сравниваем задуманное число сразу с 2мя числами, то наращиваем число попыток на 2\n",
    "        count+=2\n",
    "        if predict > number:\n",
    "            high = predict\n",
    "        elif predict < number:\n",
    "            low = predict\n",
    "        predict = (low + high)//2 \n",
    "    if predict == number: \n",
    "        return count-1 \n",
    "    else: return count        \n",
    "    # выход из цикла, если угадали\n",
    "\n",
    "def score_game(game_core):\n",
    "    '''Запускаем игру 1000 раз, чтобы узнать, как быстро игра угадывает число'''\n",
    "    count_ls = []\n",
    "    np.random.seed(1)  # фиксируем RANDOM SEED, чтобы ваш эксперимент был воспроизводим!\n",
    "    random_array = np.random.randint(1,101, size=(1000))\n",
    "    for number in random_array:\n",
    "        count_ls.append(game_core_v2(number))\n",
    "    score = int(np.mean(count_ls))\n",
    "    print(f\"Ваш алгоритм угадывает число в среднем за {score} попыток\")\n",
    "    return(score)\n",
    "\n",
    "# Проверяем\n",
    "score_game(game_core_v2)"
   ]
  }
 ],
 "metadata": {
  "kernelspec": {
   "display_name": "Python 3",
   "language": "python",
   "name": "python3"
  },
  "language_info": {
   "codemirror_mode": {
    "name": "ipython",
    "version": 3
   },
   "file_extension": ".py",
   "mimetype": "text/x-python",
   "name": "python",
   "nbconvert_exporter": "python",
   "pygments_lexer": "ipython3",
   "version": "3.7.6"
  }
 },
 "nbformat": 4,
 "nbformat_minor": 4
}
